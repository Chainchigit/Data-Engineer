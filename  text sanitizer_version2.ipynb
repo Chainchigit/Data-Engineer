{
  "cells": [
    {
      "cell_type": "markdown",
      "metadata": {
        "id": "view-in-github",
        "colab_type": "text"
      },
      "source": [
        "<a href=\"https://colab.research.google.com/github/Chainchigit/Data-Engineer/blob/main/%20text%20sanitizer_version2.ipynb\" target=\"_parent\"><img src=\"https://colab.research.google.com/assets/colab-badge.svg\" alt=\"Open In Colab\"/></a>"
      ]
    },
    {
      "cell_type": "code",
      "source": [
        "!python text_sanitizer.py input.txt --target output.json"
      ],
      "metadata": {
        "id": "f_GUV2pUHVlt",
        "outputId": "26aaa079-0655-4fbd-90f3-c4c6e3aa42e8",
        "colab": {
          "base_uri": "https://localhost:8080/"
        }
      },
      "execution_count": 3,
      "outputs": [
        {
          "output_type": "stream",
          "name": "stdout",
          "text": [
            "python3: can't open file '/content/text_sanitizer.py': [Errno 2] No such file or directory\n"
          ]
        }
      ]
    },
    {
      "cell_type": "code",
      "source": [
        "import argparse\n",
        "import string\n",
        "import json\n",
        "\n",
        "class TextSanitizer:\n",
        "    def __init__(self, source: str, target: str = None):\n",
        "        self.source = source\n",
        "        self.target = target\n",
        "        self.text = \"\"\n",
        "        self.sanitized_text = \"\"\n",
        "        self.statistics = {}\n",
        "\n",
        "    def read_input(self):\n",
        "        \"\"\"Read input text from a file.\"\"\"\n",
        "        if not self.source:\n",
        "            print(\"Error: No source file provided.\")\n",
        "            exit(1)\n",
        "        try:\n",
        "            with open(self.source, 'r', encoding='utf-8') as file:\n",
        "                self.text = file.read()\n",
        "        except FileNotFoundError:\n",
        "            print(f\"Error: File '{self.source}' not found.\")\n",
        "            exit(1)\n",
        "\n",
        "    def sanitize(self):\n",
        "        \"\"\"Sanitize the input text (convert to lowercase, replace tabs).\"\"\"\n",
        "        self.sanitized_text = self.text.lower().replace('\\t', '____')\n",
        "\n",
        "    def generate_statistics(self):\n",
        "        \"\"\"Count occurrences of each alphabet.\"\"\"\n",
        "        self.statistics = {char: self.sanitized_text.count(char) for char in string.ascii_lowercase}\n",
        "\n",
        "    def output_result(self):\n",
        "        \"\"\"Print sanitized text and statistics or write to a file if target is specified.\"\"\"\n",
        "        output_data = {\n",
        "            \"sanitized_text\": self.sanitized_text,\n",
        "            \"statistics\": self.statistics\n",
        "        }\n",
        "\n",
        "        if self.target:\n",
        "            with open(self.target, 'w', encoding='utf-8') as file:\n",
        "                json.dump(output_data, file, indent=4)\n",
        "            print(f\"Output written to '{self.target}'\")\n",
        "        else:\n",
        "            print(\"\\nSanitized Text:\")\n",
        "            print(self.sanitized_text)\n",
        "            print(\"\\nCharacter Frequency:\")\n",
        "            for char, count in self.statistics.items():\n",
        "                print(f\"{char}: {count}\")\n",
        "\n",
        "    def process(self):\n",
        "        \"\"\"Run the full text sanitization process.\"\"\"\n",
        "        self.read_input()\n",
        "        self.sanitize()\n",
        "        self.generate_statistics()\n",
        "        self.output_result()\n",
        "\n",
        "if __name__ == \"__main__\":\n",
        "    parser = argparse.ArgumentParser(description=\"Text Sanitizer Application\")\n",
        "    parser.add_argument(\"source\", nargs=\"?\", help=\"Path to the source text file\", default=None)\n",
        "    parser.add_argument(\"--target\", help=\"Path to the target output file (optional)\", default=None)\n",
        "\n",
        "    args, _ = parser.parse_known_args()\n",
        "    sanitizer = TextSanitizer(args.source, args.target)\n",
        "    sanitizer.process()"
      ],
      "metadata": {
        "id": "VSjARUI_Emf7",
        "outputId": "643dce7f-85ed-4ae7-9ab1-cf17bff56f86",
        "colab": {
          "base_uri": "https://localhost:8080/"
        }
      },
      "execution_count": 4,
      "outputs": [
        {
          "output_type": "stream",
          "name": "stdout",
          "text": [
            "\n",
            "Sanitized Text:\n",
            "{\n",
            "  \"shell_port\": 1,\n",
            "  \"iopub_port\": 2,\n",
            "  \"stdin_port\": 3,\n",
            "  \"control_port\": 4,\n",
            "  \"hb_port\": 5,\n",
            "  \"ip\": \"/root/.local/share/jupyter/runtime/kernel-f31399b8-0b70-41c4-820f-3870ae21426b-ipc\",\n",
            "  \"key\": \"\",\n",
            "  \"transport\": \"ipc\",\n",
            "  \"signature_scheme\": \"hmac-sha256\",\n",
            "  \"kernel_name\": \"\"\n",
            "}\n",
            "\n",
            "Character Frequency:\n",
            "a: 8\n",
            "b: 5\n",
            "c: 7\n",
            "d: 1\n",
            "e: 14\n",
            "f: 2\n",
            "g: 1\n",
            "h: 6\n",
            "i: 7\n",
            "j: 1\n",
            "k: 3\n",
            "l: 7\n",
            "m: 4\n",
            "n: 8\n",
            "o: 12\n",
            "p: 11\n",
            "q: 0\n",
            "r: 15\n",
            "s: 7\n",
            "t: 13\n",
            "u: 4\n",
            "v: 0\n",
            "w: 0\n",
            "x: 0\n",
            "y: 2\n",
            "z: 0\n"
          ]
        }
      ]
    }
  ],
  "metadata": {
    "colab": {
      "toc_visible": true,
      "provenance": [],
      "include_colab_link": true
    },
    "kernelspec": {
      "display_name": "Python 3",
      "name": "python3"
    }
  },
  "nbformat": 4,
  "nbformat_minor": 0
}